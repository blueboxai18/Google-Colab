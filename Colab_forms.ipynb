{
  "nbformat": 4,
  "nbformat_minor": 0,
  "metadata": {
    "colab": {
      "name": "Colab_forms.ipynb",
      "version": "0.3.2",
      "provenance": [],
      "include_colab_link": true
    },
    "kernelspec": {
      "name": "python3",
      "display_name": "Python 3"
    }
  },
  "cells": [
    {
      "cell_type": "markdown",
      "metadata": {
        "id": "view-in-github",
        "colab_type": "text"
      },
      "source": [
        "<a href=\"https://colab.research.google.com/github/blueboxai18/Google-Colab/blob/master/Colab_forms.ipynb\" target=\"_parent\"><img src=\"https://colab.research.google.com/assets/colab-badge.svg\" alt=\"Open In Colab\"/></a>"
      ]
    },
    {
      "metadata": {
        "id": "mDzrnc__Yln8",
        "colab_type": "code",
        "colab": {
          "base_uri": "https://localhost:8080/",
          "height": 68
        },
        "outputId": "7ec82609-65e3-4610-c84e-a4e213e78d27"
      },
      "cell_type": "code",
      "source": [
        "# Using textbox, dropdown lists, and text & drop downs\n",
        "\n",
        "Enter_String = 'Jane Doe' #@param {type:\"string\"}\n",
        "grade = 'Sophomore' #@param [\"Fresher\", \"Sophomore\", \"Junior\", \"Senior\"]\n",
        "text_and_dropdown = '10th grade' #@param [\"Fresher\", \"Sophomore\", \"Junior\", \"Senior\"] {allow-input: true}\n",
        "\n",
        "print(Enter_String)\n",
        "print(\"My gade is:\", grade)\n",
        "print(text_and_dropdown)"
      ],
      "execution_count": 1,
      "outputs": [
        {
          "output_type": "stream",
          "text": [
            "Jane Doe\n",
            "My gade is: Sophomore\n",
            "10th grade\n"
          ],
          "name": "stdout"
        }
      ]
    },
    {
      "metadata": {
        "id": "n0thNRd3ax7Q",
        "colab_type": "code",
        "colab": {
          "base_uri": "https://localhost:8080/",
          "height": 34
        },
        "outputId": "01d02c35-6120-4211-eb65-d51222aedeb3"
      },
      "cell_type": "code",
      "source": [
        "#@title Date fields\n",
        "date_input = '2018-12-21' #@param {type:\"date\"}\n",
        "\n",
        "print(date_input)"
      ],
      "execution_count": 2,
      "outputs": [
        {
          "output_type": "stream",
          "text": [
            "2018-12-21\n"
          ],
          "name": "stdout"
        }
      ]
    },
    {
      "metadata": {
        "id": "O9NwxjN8bOEg",
        "colab_type": "code",
        "colab": {
          "base_uri": "https://localhost:8080/",
          "height": 85
        },
        "outputId": "3cb1a3b5-e6fe-49af-fb13-7bb7a5cee15d"
      },
      "cell_type": "code",
      "source": [
        "#@title Number fields\n",
        "number_input = 28 #@param {type:\"number\"}\n",
        "number_slider = 0 #@param {type:\"slider\", min:-1, max:1, step:0.1}\n",
        "\n",
        "integer_input = 13 #@param {type:\"integer\"}\n",
        "integer_slider = 8 #@param {type:\"slider\", min:0, max:100, step:1}\n",
        "\n",
        "print(number_input)\n",
        "print(number_slider)\n",
        "\n",
        "print(integer_input)\n",
        "print(integer_slider)"
      ],
      "execution_count": 4,
      "outputs": [
        {
          "output_type": "stream",
          "text": [
            "28\n",
            "0\n",
            "13\n",
            "8\n"
          ],
          "name": "stdout"
        }
      ]
    }
  ]
}